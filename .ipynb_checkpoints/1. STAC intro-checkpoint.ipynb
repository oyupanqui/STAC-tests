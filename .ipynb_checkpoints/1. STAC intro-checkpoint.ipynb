{
 "cells": [
  {
   "cell_type": "markdown",
   "id": "ec1647d6",
   "metadata": {},
   "source": [
    "## Start"
   ]
  },
  {
   "cell_type": "code",
   "execution_count": 1,
   "id": "cc67fe87",
   "metadata": {},
   "outputs": [],
   "source": [
    "# Import Pystac\n",
    "from pystac_client import Client"
   ]
  },
  {
   "cell_type": "code",
   "execution_count": 13,
   "id": "364b5479",
   "metadata": {},
   "outputs": [],
   "source": [
    "# Get API url\n",
    "api_url = \"https://earth-search.aws.element84.com/v1\""
   ]
  },
  {
   "cell_type": "code",
   "execution_count": 14,
   "id": "d838b650",
   "metadata": {},
   "outputs": [],
   "source": [
    "# Open a client\n",
    "client = Client.open(api_url)"
   ]
  },
  {
   "cell_type": "code",
   "execution_count": 15,
   "id": "a15beaeb",
   "metadata": {},
   "outputs": [],
   "source": [
    "# Define Sentinel-2 collection\n",
    "collection = \"sentinel-2-l2a\"  # Sentinel-2, Level 2A, Cloud Optimized GeoTiffs (COGs)"
   ]
  },
  {
   "cell_type": "code",
   "execution_count": 33,
   "id": "7afaca34",
   "metadata": {},
   "outputs": [
    {
     "name": "stdout",
     "output_type": "stream",
     "text": [
      "POINT (4.89 52.37)\n"
     ]
    }
   ],
   "source": [
    "# Import Shapely\n",
    "from shapely.geometry import Point\n",
    "point = Point(4.89, 52.37)\n",
    "print(point)"
   ]
  },
  {
   "cell_type": "code",
   "execution_count": 22,
   "id": "9d0976b0",
   "metadata": {},
   "outputs": [],
   "source": [
    "# Define search\n",
    "search = client.search(\n",
    "    collections=[collection],\n",
    "    intersects=point,\n",
    "    max_items=10,\n",
    ")"
   ]
  },
  {
   "cell_type": "code",
   "execution_count": 23,
   "id": "3fc5d3fb",
   "metadata": {},
   "outputs": [
    {
     "name": "stdout",
     "output_type": "stream",
     "text": [
      "892\n"
     ]
    }
   ],
   "source": [
    "# Print amount of datasets that match the query\n",
    "print(search.matched())"
   ]
  },
  {
   "cell_type": "code",
   "execution_count": 24,
   "id": "d0be47cf",
   "metadata": {},
   "outputs": [],
   "source": [
    "# Store searched items in a collection\n",
    "items = search.item_collection()"
   ]
  },
  {
   "cell_type": "code",
   "execution_count": 25,
   "id": "bb255911",
   "metadata": {},
   "outputs": [
    {
     "name": "stdout",
     "output_type": "stream",
     "text": [
      "10\n"
     ]
    }
   ],
   "source": [
    "# Check size of items\n",
    "print(len(items))"
   ]
  },
  {
   "cell_type": "code",
   "execution_count": 26,
   "id": "31370e58",
   "metadata": {},
   "outputs": [
    {
     "name": "stdout",
     "output_type": "stream",
     "text": [
      "<Item id=S2A_31UFU_20230724_0_L2A>\n",
      "<Item id=S2A_31UFU_20230721_0_L2A>\n",
      "<Item id=S2B_31UFU_20230719_0_L2A>\n",
      "<Item id=S2B_31UFU_20230716_0_L2A>\n",
      "<Item id=S2A_31UFU_20230714_0_L2A>\n",
      "<Item id=S2A_31UFU_20230711_0_L2A>\n",
      "<Item id=S2B_31UFU_20230709_0_L2A>\n",
      "<Item id=S2B_31UFU_20230706_0_L2A>\n",
      "<Item id=S2A_31UFU_20230704_0_L2A>\n",
      "<Item id=S2A_31UFU_20230701_0_L2A>\n"
     ]
    }
   ],
   "source": [
    "# Print ID of items\n",
    "for item in items:\n",
    "    print(item)"
   ]
  },
  {
   "cell_type": "code",
   "execution_count": 28,
   "id": "8021a6c3",
   "metadata": {},
   "outputs": [
    {
     "name": "stdout",
     "output_type": "stream",
     "text": [
      "2023-07-24 10:56:27.647000+00:00\n"
     ]
    }
   ],
   "source": [
    "# Get the first item and print datetime\n",
    "item = items[0]\n",
    "print(item.datetime)"
   ]
  },
  {
   "cell_type": "code",
   "execution_count": 29,
   "id": "83772616",
   "metadata": {},
   "outputs": [
    {
     "name": "stdout",
     "output_type": "stream",
     "text": [
      "{'type': 'Polygon', 'coordinates': [[[4.498475093400055, 53.240199174677954], [4.464995307918359, 52.25346561204129], [6.071664488869862, 52.22257539160585], [6.141754296879459, 53.20819279121764], [4.498475093400055, 53.240199174677954]]]}\n"
     ]
    }
   ],
   "source": [
    "# Print geometry of the first item\n",
    "print(item.geometry)"
   ]
  },
  {
   "cell_type": "code",
   "execution_count": 30,
   "id": "498f7bb8",
   "metadata": {},
   "outputs": [
    {
     "name": "stdout",
     "output_type": "stream",
     "text": [
      "{'created': '2023-07-24T22:24:48.562Z', 'platform': 'sentinel-2a', 'constellation': 'sentinel-2', 'instruments': ['msi'], 'eo:cloud_cover': 91.822112, 'proj:epsg': 32631, 'mgrs:utm_zone': 31, 'mgrs:latitude_band': 'U', 'mgrs:grid_square': 'FU', 'grid:code': 'MGRS-31UFU', 'view:sun_azimuth': 159.254803144862, 'view:sun_elevation': 55.7897314279533, 's2:degraded_msi_data_percentage': 0.0899, 's2:nodata_pixel_percentage': 0, 's2:saturated_defective_pixel_percentage': 0, 's2:dark_features_percentage': 0, 's2:cloud_shadow_percentage': 0.84302, 's2:vegetation_percentage': 2.930913, 's2:not_vegetated_percentage': 0.985587, 's2:water_percentage': 2.125116, 's2:unclassified_percentage': 1.293254, 's2:medium_proba_clouds_percentage': 27.68116, 's2:high_proba_clouds_percentage': 59.679061, 's2:thin_cirrus_percentage': 4.46189, 's2:snow_ice_percentage': 0, 's2:product_type': 'S2MSI2A', 's2:processing_baseline': '05.09', 's2:product_uri': 'S2A_MSIL2A_20230724T104621_N0509_R051_T31UFU_20230724T170855.SAFE', 's2:generation_time': '2023-07-24T17:08:55.000000Z', 's2:datatake_id': 'GS2A_20230724T104621_042233_N05.09', 's2:datatake_type': 'INS-NOBS', 's2:datastrip_id': 'S2A_OPER_MSI_L2A_DS_2APS_20230724T170855_S20230724T104624_N05.09', 's2:granule_id': 'S2A_OPER_MSI_L2A_TL_2APS_20230724T170855_A042233_T31UFU_N05.09', 's2:reflectance_conversion_factor': 0.968456940264968, 'datetime': '2023-07-24T10:56:27.647000Z', 's2:sequence': '0', 'earthsearch:s3_path': 's3://sentinel-cogs/sentinel-s2-l2a-cogs/31/U/FU/2023/7/S2A_31UFU_20230724_0_L2A', 'earthsearch:payload_id': 'roda-sentinel2/workflow-sentinel2-to-stac/7b5758f8d974f7f954a0f4fa6f4cf910', 'earthsearch:boa_offset_applied': True, 'processing:software': {'sentinel2-to-stac': '0.1.1'}, 'updated': '2023-07-24T22:24:48.562Z'}\n"
     ]
    }
   ],
   "source": [
    "# Print properties of the first item\n",
    "print(item.properties)"
   ]
  },
  {
   "cell_type": "markdown",
   "id": "d20f7dc4",
   "metadata": {},
   "source": [
    "## Search exercise"
   ]
  },
  {
   "cell_type": "code",
   "execution_count": 34,
   "id": "fa623ab1",
   "metadata": {},
   "outputs": [
    {
     "name": "stdout",
     "output_type": "stream",
     "text": [
      "(4.88, 52.36, 4.8999999999999995, 52.379999999999995)\n"
     ]
    }
   ],
   "source": [
    "# Create a bounding box with a buffer of 0.01 deg\n",
    "bbox = point.buffer(0.01).bounds\n",
    "print(bbox)"
   ]
  }
 ],
 "metadata": {
  "kernelspec": {
   "display_name": "Python 3 (ipykernel)",
   "language": "python",
   "name": "python3"
  },
  "language_info": {
   "codemirror_mode": {
    "name": "ipython",
    "version": 3
   },
   "file_extension": ".py",
   "mimetype": "text/x-python",
   "name": "python",
   "nbconvert_exporter": "python",
   "pygments_lexer": "ipython3",
   "version": "3.11.4"
  }
 },
 "nbformat": 4,
 "nbformat_minor": 5
}
